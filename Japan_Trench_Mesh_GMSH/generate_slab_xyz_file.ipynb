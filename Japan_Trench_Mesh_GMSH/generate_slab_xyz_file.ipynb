{
 "cells": [
  {
   "cell_type": "code",
   "execution_count": 1,
   "id": "3e3eb2e9",
   "metadata": {},
   "outputs": [],
   "source": [
    "import numpy as np"
   ]
  },
  {
   "cell_type": "code",
   "execution_count": 6,
   "id": "82dc09a3",
   "metadata": {},
   "outputs": [],
   "source": [
    "xyz_file = '/Users/oluwaseunfadugba/Documents/Projects/TsE_ValerieDiego/Data_Slab2.0_Japan/Slab2_Kuril/kur_slab2_dep_02.24.18.xyz'"
   ]
  },
  {
   "cell_type": "code",
   "execution_count": 18,
   "id": "8b13c198",
   "metadata": {},
   "outputs": [],
   "source": [
    "with open(xyz_file, \"r\") as filestream:\n",
    "    with open(\"JapanSlab_kur_region.xyz\", \"w\") as filestreamtwo:\n",
    "        for line in filestream:\n",
    "            currentline = line.split(\",\")\n",
    "            #total = str(int(currentline[0]) + int(currentline[1]) + int(currentline [2])) + \"\\n\"\n",
    "            total = str(str(currentline[0]) + '\\t' + str(currentline[1]) + '\\t' + str(currentline [2]))\n",
    "            filestreamtwo.write(total)"
   ]
  },
  {
   "cell_type": "code",
   "execution_count": 19,
   "id": "4ab094e8",
   "metadata": {},
   "outputs": [
    {
     "name": "stdout",
     "output_type": "stream",
     "text": [
      "[[121.    61.      nan]\n",
      " [121.05  61.      nan]\n",
      " [121.1   61.      nan]\n",
      " ...\n",
      " [169.9   35.      nan]\n",
      " [169.95  35.      nan]\n",
      " [170.    35.      nan]]\n"
     ]
    }
   ],
   "source": [
    "slab_model=np.genfromtxt('JapanSlab_kur_region.xyz')\n",
    "print(slab_model)"
   ]
  },
  {
   "cell_type": "code",
   "execution_count": null,
   "id": "87031a70",
   "metadata": {},
   "outputs": [],
   "source": []
  }
 ],
 "metadata": {
  "kernelspec": {
   "display_name": "Python 3 (ipykernel)",
   "language": "python",
   "name": "python3"
  },
  "language_info": {
   "codemirror_mode": {
    "name": "ipython",
    "version": 3
   },
   "file_extension": ".py",
   "mimetype": "text/x-python",
   "name": "python",
   "nbconvert_exporter": "python",
   "pygments_lexer": "ipython3",
   "version": "3.7.9"
  }
 },
 "nbformat": 4,
 "nbformat_minor": 5
}
